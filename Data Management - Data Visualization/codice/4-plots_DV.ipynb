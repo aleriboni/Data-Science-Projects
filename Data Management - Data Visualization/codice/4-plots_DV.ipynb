{
 "cells": [
  {
   "cell_type": "markdown",
   "metadata": {},
   "source": [
    "### corrplots"
   ]
  },
  {
   "cell_type": "code",
   "execution_count": null,
   "metadata": {},
   "outputs": [],
   "source": [
    "from string import ascii_letters\n",
    "import numpy as np\n",
    "import pandas as pd\n",
    "import seaborn as sns\n",
    "import matplotlib.pyplot as plt\n",
    "\n",
    "for j in range(1,5):\n",
    "    df = pd.read_csv(\"/Users/alessandro/Desktop/questionari_psico/dataViz_\" + str(j) +\".csv\", sep=\";\")\n",
    "\n",
    "    df.columns = [\"Un\", \"Utile\",\"Intuitiva\", \"Chiara\", \"Informativa\",\n",
    "                  \"Bella\",\"Valore complessivo\", \"U/D\"]\n",
    "    df = df[[\"Utile\",\"Intuitiva\",\"Chiara\",\n",
    "          \"Informativa\",\"Bella\",\"Valore complessivo\"]]\n",
    "    \n",
    "    sns.set(style=\"white\")\n",
    "\n",
    "    # Generate a large random dataset\n",
    "    rs = np.random.RandomState(33)\n",
    "    d = df\n",
    "\n",
    "    # Compute the correlation matrix\n",
    "    corr = d.corr()\n",
    "\n",
    "    # Generate a mask for the upper triangle\n",
    "    mask = np.zeros_like(corr, dtype=np.bool)\n",
    "    mask[np.triu_indices_from(mask)] = True\n",
    "\n",
    "    # Set up the matplotlib figure\n",
    "    f, ax = plt.subplots(figsize=(20, 15))\n",
    "\n",
    "    # Generate a custom diverging colormap\n",
    "    cmap = sns.diverging_palette(220, 10, as_cmap=True)\n",
    "\n",
    "    # Draw the heatmap with the mask and correct aspect ratio\n",
    "    sns.heatmap(corr, mask=mask, cmap=cmap, vmax=1, center=0,\n",
    "                square=True,annot=True)\n",
    "    #f.savefig('/Users/alessandro/Desktop/questionari_psico/corrplots_' + str(j) +'.png')"
   ]
  },
  {
   "cell_type": "markdown",
   "metadata": {},
   "source": [
    "### violin  plots"
   ]
  },
  {
   "cell_type": "code",
   "execution_count": null,
   "metadata": {},
   "outputs": [],
   "source": [
    "import seaborn as sns\n",
    "import pandas as pd\n",
    "import matplotlib.pyplot as plt\n",
    "sns.set(style=\"whitegrid\")\n",
    "tips = pd.read_csv(\"/Users/alessandro/Desktop/violin4.csv\", sep=\";\")\n",
    "tips[\"tempo (secondi)\"] = tips[\"t1\"]\n",
    "fig, ax = plt.subplots()\n",
    "fig.set_size_inches(10.7, 5.27)\n",
    "ax = sns.violinplot(x=tips[\"tempo (secondi)\"], )"
   ]
  },
  {
   "cell_type": "code",
   "execution_count": null,
   "metadata": {},
   "outputs": [],
   "source": [
    "import seaborn as sns\n",
    "import matplotlib.pyplot as plt\n",
    "from matplotlib.collections import PathCollection\n",
    "\n",
    "#tips = sns.load_dataset(\"tips\")\n",
    "tips[\"tempo (secondi)\"] = tips[\"t4\"]\n",
    "fig, ax = plt.subplots()\n",
    "fig.set_size_inches(10.7, 5.27)\n",
    "ax = sns.violinplot(x=tips[\"tempo (secondi)\"], color=\".95\")\n",
    "\n",
    "for a in ax.lines:\n",
    "    a.set_zorder(10)\n",
    "for a in ax.findobj(PathCollection):\n",
    "    a.set_zorder(11)\n",
    "\n",
    "\n",
    "sns.stripplot(x=tips[\"tempo (secondi)\"], jitter=True, ax=ax)\n",
    "\n",
    "plt.show()\n",
    "fig.savefig('/Users/alessandro/Desktop/questionari_psico/violin_4.png')"
   ]
  }
 ],
 "metadata": {
  "kernelspec": {
   "display_name": "Python 3",
   "language": "python",
   "name": "python3"
  },
  "language_info": {
   "codemirror_mode": {
    "name": "ipython",
    "version": 3
   },
   "file_extension": ".py",
   "mimetype": "text/x-python",
   "name": "python",
   "nbconvert_exporter": "python",
   "pygments_lexer": "ipython3",
   "version": "3.7.1"
  }
 },
 "nbformat": 4,
 "nbformat_minor": 2
}
