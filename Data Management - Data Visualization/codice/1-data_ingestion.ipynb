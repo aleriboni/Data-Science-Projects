{
 "cells": [
  {
   "cell_type": "markdown",
   "metadata": {},
   "source": [
    "# Data Management - Progetto Trenitalia"
   ]
  },
  {
   "cell_type": "markdown",
   "metadata": {},
   "source": [
    "### 1) Creazione csv contenente tutte le stazioni italiane presenti sul portale viaggiatreno.it"
   ]
  },
  {
   "cell_type": "code",
   "execution_count": 59,
   "metadata": {},
   "outputs": [],
   "source": [
    "import pandas as pd\n",
    "import requests\n",
    "import csv\n",
    "\n",
    "temp = []\n",
    "stazioni = []\n",
    "for i in range(65,91):\n",
    "    r = requests.get(\"http://www.viaggiatreno.it/viaggiatrenonew/resteasy/viaggiatreno/autocompletaStazione/\" + chr(i))\n",
    "    temp.append(r.text.split(\"\\n\"))\n",
    "    \n",
    "for i in temp:\n",
    "    for j in range(0,len(i)-1):\n",
    "        stazioni.append(i[j])\n",
    "    \n",
    "stripped = (line.strip() for line in lista)\n",
    "lines = (line.split(\"|\") for line in stripped if line)\n",
    "with open('stazioni.csv', 'w') as out_file:\n",
    "    writer = csv.writer(out_file)\n",
    "    writer.writerow(('nome_stazione', 'id'))\n",
    "    writer.writerows(lines)\n"
   ]
  },
  {
   "cell_type": "markdown",
   "metadata": {},
   "source": [
    "### 2) Creazione di un file json contenente l'identificativo del treno associato al codice della stazione di partenza"
   ]
  },
  {
   "cell_type": "code",
   "execution_count": null,
   "metadata": {},
   "outputs": [],
   "source": [
    "#!/usr/bin/python\n",
    "import datetime\n",
    "from threading import Timer\n",
    "import requests\n",
    "import pandas as pd\n",
    "import json\n",
    "import time\n",
    "import os\n",
    "\n",
    "# funzione che crea una directory\n",
    "def createFolder(directory):\n",
    "    try:\n",
    "        if not os.path.exists(directory):\n",
    "            os.makedirs(directory)\n",
    "    except OSError:\n",
    "        print ('Error: Creating directory. ' +  directory)\n",
    "\n",
    "# funzione che crea il file tratte_treni per il giorno successivo\n",
    "def crea_tratte_treni():\n",
    "    \n",
    "    df = pd.read_csv('stazioni.csv', sep=\",\")\n",
    "    stazioni = df[\"id\"]\n",
    "    mese = \"Jan\"\n",
    "    anno = 2019\n",
    "    giorni_settimana = ['Mon','Tue','Wed','Thu','Fri','Sat','Sun']\n",
    "    tratte_treni = {}\n",
    "    \n",
    "    giorno = int(time.strftime(\"%d\")) + 1\n",
    "    tratta = list()\n",
    "    count = 0\n",
    "    for i in stazioni:\n",
    "        count += 1\n",
    "        for h in range(1,23,2):\n",
    "            try:\n",
    "               r = requests.get(\"http://www.viaggiatreno.it/viaggiatrenonew/resteasy/viaggiatreno/partenze/\" \n",
    "                                + i + \"/\" + giorni_settimana[datetime.datetime.today().weekday()] +\n",
    "                                \"%20\"+ mese +\"%20\" + str(giorno) +\"%20\" + str(anno) + \"%20\" \n",
    "                                + str(h) + \":00:00%20GMT+0100\")\n",
    "\n",
    "            except (requests.ConnectionError, requests.Timeout, requests.RequestException) as e:\n",
    "                print(\"OOPS!! Connection Error. Make sure you are connected to Internet.\\n\")\n",
    "                print(\"I'm gonna take a break...\\n\")\n",
    "                time.sleep(10)\n",
    "                r = requests.get(\"http://www.viaggiatreno.it/viaggiatrenonew/resteasy/viaggiatreno/partenze/\" + i + \"/\" + giorni_settimana[datetime.datetime.today().weekday()] +\n",
    "                                \"%20\"+ mese +\"%20\" + str(giorno) +\"%20\" + str(anno) + \"%20\" + str(h) + \":00:00%20GMT+0100\")            \n",
    "            \n",
    "            except KeyboardInterrupt:\n",
    "                print(\"Someone closed the program\")\n",
    "   \n",
    "            if r.status_code == 200:\n",
    "                tratta.append(r.json())\n",
    "\n",
    "        for ora in tratta:\n",
    "            for treno in ora:\n",
    "                if treno['codOrigine'] == i:\n",
    "                    tratte_treni[treno['numeroTreno']] = treno['codOrigine']\n",
    "        tratta = list()\n",
    "        print(count)\n",
    "    \n",
    "    with open('tratte_treni_' + str(datetime.date.today() + datetime.timedelta(days=1)) +'.json', 'w') as outfile:\n",
    "        json.dump(tratte_treni, outfile)\n",
    "\n"
   ]
  },
  {
   "cell_type": "markdown",
   "metadata": {},
   "source": [
    "### 3) Salvataggio dei dati in locale e in mongodb dei treni in formato json della giornata utilizzando il file tratte_treni creato il giorno precedente"
   ]
  },
  {
   "cell_type": "code",
   "execution_count": null,
   "metadata": {},
   "outputs": [],
   "source": [
    "# funzione che manda le richieste al sito viaggiatreno.it per ogni tratta\n",
    "#!/usr/bin/python\n",
    "import datetime\n",
    "from threading import Timer\n",
    "import requests\n",
    "import pandas as pd\n",
    "import json\n",
    "import time\n",
    "import os\n",
    "\n",
    "import pymongo\n",
    "from pymongo import MongoClient\n",
    "\n",
    "client = MongoClient('localhost', 27017)\n",
    "db = client.dati_viaggiatreno\n",
    "\n",
    "# timer\n",
    "x=datetime.datetime.today()\n",
    "y=x.replace(day=x.day, hour=23, minute=0, second=0, microsecond=0)\n",
    "delta_t=y-x\n",
    "secs=delta_t.seconds+1\n",
    "\n",
    "def richieste_viaggiotreno():\n",
    "    \n",
    "    print(\"Start: \" + time.strftime(\"%H:%M:%S\"))\n",
    "    file = json.loads(open(\"tratte_treni_\" + str(datetime.date.today()) + \".json\").read())\n",
    "    createFolder(time.strftime(\"%d-%m-%Y\"))\n",
    "    treni = []\n",
    "    time.strftime(\"%d-%m-%Y\")\n",
    "    for i in file.keys():\n",
    "        treni.append(i)\n",
    "        \n",
    "    giorno = db[time.strftime(\"%d-%m-%Y\")]\n",
    "    \n",
    "    temp = []\n",
    "    count = 0\n",
    "    conn_error = 0\n",
    "    timeout_error = 0\n",
    "    gen_error = 0\n",
    "    \n",
    "    for i in range(0,len(file)):\n",
    "\n",
    "        try:\n",
    "            r = requests.get(\"http://www.viaggiatreno.it/viaggiatrenonew/resteasy/viaggiatreno/andamentoTreno/\" \n",
    "                             + str(file[treni[i]]) + \"/\" + str(treni[i]))\n",
    "\n",
    "        except (requests.ConnectionError, requests.Timeout, requests.RequestException) as e:\n",
    "            timeout_error += 1\n",
    "            print(\"OOPS!! Timeout Error\")\n",
    "            print(\"I'm gonna take a break...\\n\")\n",
    "            time.sleep(10)\n",
    "            print(\"I'm restarting from station:\",file[treni[i]],\" - train: \",treni[i],\"\\n\")\n",
    "            r = requests.get(\"http://www.viaggiatreno.it/viaggiatrenonew/resteasy/viaggiatreno/andamentoTreno/\" + str(file[treni[i]]) + \"/\" + str(treni[i]))\n",
    "\n",
    "        except KeyboardInterrupt:\n",
    "            print(\"Someone closed the program\")\n",
    "    \n",
    "        if r.status_code == 200:\n",
    "            temp.append(r.json())\n",
    "            \n",
    "            with open(time.strftime(\"%d-%m-%Y\") +'/' + str(treni[i]) + '_' + time.strftime(\"%d-%m-%Y\") + '.json', 'w') as outfile:\n",
    "                json.dump(temp, outfile)\n",
    "            x = giorno.insert_many(temp)\n",
    "            \n",
    "            temp = list()\n",
    "            print (\"File: \", count, \" - station: \", file[treni[i]],\" - train: \",treni[i],\"\\n\" )\n",
    "            count += 1\n",
    "\n",
    "    print(\"End:\" + time.strftime(\"%H:%M:%S\"))\n",
    "    print(\"Connection Error: \", conn_error)\n",
    "    print(\"Timeout Error: \", timeout_error)\n",
    "    print(\"General Error: \", gen_error)\n",
    "\n",
    "t = Timer(secs, richieste_viaggiotreno)\n",
    "#t.start()"
   ]
  },
  {
   "cell_type": "markdown",
   "metadata": {},
   "source": [
    "### Web scraping latitudine e longitudine wikipedia"
   ]
  },
  {
   "cell_type": "code",
   "execution_count": 22,
   "metadata": {},
   "outputs": [
    {
     "name": "stdout",
     "output_type": "stream",
     "text": [
      "44°53′15″N\n",
      "7°20′13.2″E\n"
     ]
    }
   ],
   "source": [
    "import re\n",
    "import requests\n",
    "from bs4 import BeautifulSoup\n",
    "\n",
    "nome_stazione = \"Stazione_di_Pinerolo\"\n",
    "r = requests.get('https://it.wikipedia.org/wiki/' + nome_stazione)\n",
    "soup = BeautifulSoup(r.text, \"html.parser\")\n",
    "lat = soup.find_all(\"span\", class_=\"latitude\")[0].text\n",
    "lon = soup.find_all(\"span\", class_=\"longitude\")[0].text"
   ]
  },
  {
   "cell_type": "markdown",
   "metadata": {},
   "source": [
    "### Geopy"
   ]
  },
  {
   "cell_type": "code",
   "execution_count": null,
   "metadata": {},
   "outputs": [],
   "source": [
    "from geopy.geocoders import Nominatim\n",
    "import pandas as pd\n",
    "staz = pd.read_csv(\"stazioni_mancanti.csv\", sep=\";\")\n",
    "geolocator = Nominatim(user_agent=\"university_project6\")\n",
    "count = 0\n",
    "for i in staz.iterrows():\n",
    "    string = \"station \" + str(i[1][1]) + \" \" + str(i[1][2]) + \" \" +  str(i[1][3])\n",
    "    location = geolocator.geocode(string)\n",
    "    if location != None:\n",
    "        print(location.raw)\n",
    "        staz[\"Lat\"][count] = location.latitude\n",
    "        staz[\"Lon\"][count] = location.longitude\n",
    "    else:\n",
    "        print(\"error!\")\n",
    "    count += 1\n",
    "staz.to_csv(\"stazioni_mancanti.csv\", sep=\";\")"
   ]
  }
 ],
 "metadata": {
  "kernelspec": {
   "display_name": "Python 3",
   "language": "python",
   "name": "python3"
  },
  "language_info": {
   "codemirror_mode": {
    "name": "ipython",
    "version": 3
   },
   "file_extension": ".py",
   "mimetype": "text/x-python",
   "name": "python",
   "nbconvert_exporter": "python",
   "pygments_lexer": "ipython3",
   "version": "3.7.1"
  }
 },
 "nbformat": 4,
 "nbformat_minor": 2
}
